{
  "nbformat": 4,
  "nbformat_minor": 0,
  "metadata": {
    "colab": {
      "name": "oo.ipynb",
      "provenance": [],
      "authorship_tag": "ABX9TyMIHS3D3Ts5odu8sZZOTtku",
      "include_colab_link": true
    },
    "kernelspec": {
      "name": "python3",
      "display_name": "Python 3"
    },
    "language_info": {
      "name": "python"
    }
  },
  "cells": [
    {
      "cell_type": "markdown",
      "metadata": {
        "id": "view-in-github",
        "colab_type": "text"
      },
      "source": [
        "<a href=\"https://colab.research.google.com/github/Ronaldocruz26/Ol--mundo--eu-de-novo---/blob/master/oo.ipynb\" target=\"_parent\"><img src=\"https://colab.research.google.com/assets/colab-badge.svg\" alt=\"Open In Colab\"/></a>"
      ]
    },
    {
      "cell_type": "markdown",
      "source": [
        "# Classes e objetos\n"
      ],
      "metadata": {
        "id": "H9VXzfuELqfG"
      }
    },
    {
      "cell_type": "code",
      "execution_count": 5,
      "metadata": {
        "colab": {
          "base_uri": "https://localhost:8080/"
        },
        "id": "m8U9PppMFZ3n",
        "outputId": "7fb3a216-b637-4abb-845f-c67c9636ea2e"
      },
      "outputs": [
        {
          "output_type": "stream",
          "name": "stdout",
          "text": [
            "Nome: vingadores - guerra infinita - Ano: 2018 - Duração: 160\n",
            "Nome: Atlanta - Ano: 2018 - Temporadas: 2\n"
          ]
        }
      ],
      "source": [
        "class Filme:\n",
        "  def __init__(self, nome, ano, duracao):\n",
        "      self.nome = nome\n",
        "      self.ano = ano\n",
        "      self.duracao = duracao\n",
        "\n",
        "class Serie:\n",
        "  def __init__(self, nome, ano, temporadas):\n",
        "      self.nome = nome\n",
        "      self.ano = ano\n",
        "      self.temporadas = temporadas  \n",
        "\n",
        "    \n",
        "vingadores = Filme('vingadores - guerra infinita', 2018, 160)\n",
        "print (f'Nome: {vingadores.nome} - Ano: {vingadores.ano}'\n",
        "      f' - Duração: {vingadores.duracao}')\n",
        "\n",
        "atlanta = Serie('Atlanta', 2018, 2)\n",
        "\n",
        "print (f'Nome: {atlanta.nome} - Ano: {atlanta.ano}'\n",
        "      f' - Temporadas: {atlanta.temporadas}')\n"
      ]
    }
  ]
}