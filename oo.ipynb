{
  "nbformat": 4,
  "nbformat_minor": 0,
  "metadata": {
    "colab": {
      "name": "oo.ipynb",
      "provenance": [],
      "authorship_tag": "ABX9TyO/xlHVCjHDG3L3DpTeCg82",
      "include_colab_link": true
    },
    "kernelspec": {
      "name": "python3",
      "display_name": "Python 3"
    },
    "language_info": {
      "name": "python"
    }
  },
  "cells": [
    {
      "cell_type": "markdown",
      "metadata": {
        "id": "view-in-github",
        "colab_type": "text"
      },
      "source": [
        "<a href=\"https://colab.research.google.com/github/Ronaldocruz26/Ol--mundo--eu-de-novo---/blob/master/oo.ipynb\" target=\"_parent\"><img src=\"https://colab.research.google.com/assets/colab-badge.svg\" alt=\"Open In Colab\"/></a>"
      ]
    },
    {
      "cell_type": "markdown",
      "source": [
        "# Classes e objetos\n"
      ],
      "metadata": {
        "id": "H9VXzfuELqfG"
      }
    },
    {
      "cell_type": "code",
      "source": [
        "class Filme:\n",
        "  def __init__(self, nome, ano, duracao):\n",
        "      self.nome = nome.title ()\n",
        "      self.ano = ano\n",
        "      self.duracao = duracao\n",
        "      self.likes = 0\n",
        "\n",
        "  def dar_likes(self):\n",
        "      self.likes += 1\n",
        "\n",
        "\n",
        "class Serie:\n",
        "  def __init__(self, nome, ano, temporadas):\n",
        "      self.nome = nome.title ()\n",
        "      self.ano = ano\n",
        "      self.temporadas = temporadas  \n",
        "      self.likes = 0\n",
        "\n",
        "  def dar_likes(self):\n",
        "      self.likes += 1\n",
        "\n",
        "    \n",
        "vingadores = Filme('vingadores - guerra infinita', 2018, 160)\n",
        "vingadores.dar_likes()\n",
        "print (f'Nome: {vingadores.nome} - Ano: {vingadores.ano}'\n",
        "      f' - Duração: {vingadores.duracao} - likes: {vingadores.likes}')\n",
        "\n",
        "atlanta = Serie('Atlanta', 2018, 2)\n",
        "atlanta.dar_likes()\n",
        "atlanta.dar_likes()\n",
        "atlanta.dar_likes()\n",
        "print (f'Nome: {atlanta.nome} - Ano: {atlanta.ano}'\n",
        "      f' - Temporadas: {atlanta.temporadas} - likes: {atlanta.likes}')\n"
      ],
      "metadata": {
        "colab": {
          "base_uri": "https://localhost:8080/"
        },
        "id": "N1v-B3x6M3rg",
        "outputId": "6740f4ec-d06c-4c4c-b9b1-06295b2f384a"
      },
      "execution_count": null,
      "outputs": [
        {
          "output_type": "stream",
          "name": "stdout",
          "text": [
            "Nome: Vingadores - Guerra Infinita - Ano: 2018 - Duração: 160 - likes: 1\n",
            "Nome: Atlanta - Ano: 2018 - Temporadas: 2 - likes: 3\n"
          ]
        }
      ]
    },
    {
      "cell_type": "code",
      "source": [
        "class Filme:\n",
        "    def __init__(self, nome, ano, duracao):\n",
        "        self.__nome = nome.title()\n",
        "        self.ano = ano\n",
        "        self.duracao = duracao\n",
        "        self.__likes = 0\n",
        "\n",
        "    @property\n",
        "    def likes(self):\n",
        "        return self.__likes\n",
        "\n",
        "    def dar_likes(self):\n",
        "        self.__likes += 1\n",
        "\n",
        "    @property\n",
        "    def nome(self):\n",
        "        return self.__nome\n",
        "\n",
        "    @nome.setter\n",
        "    def nome(self, nome):\n",
        "        self.__nome = nome\n",
        "\n",
        "class Serie:\n",
        "    def __init__(self, nome, ano, temporadas):\n",
        "        self.__nome = nome.title()\n",
        "        self.ano = ano\n",
        "        self.temporadas = temporadas\n",
        "        self.__likes = 0\n",
        "\n",
        "    @property\n",
        "    def likes(self):\n",
        "        return self.__likes\n",
        "\n",
        "    def dar_likes(self):\n",
        "        self.__likes += 1\n",
        "\n",
        "    @property\n",
        "    def nome(self):\n",
        "        return self.__nome\n",
        "\n",
        "    @nome.setter\n",
        "    def nome(self, nome):\n",
        "        self.__nome = nome\n",
        "\n",
        "vingadores = Filme('vingadores - guerra infinita', 2018, 160)\n",
        "print(vingadores.nome)\n",
        "\n",
        "atlanta = Serie('atlanta', 2018, 2)\n",
        "print(f'Nome: {atlanta.nome} - Ano: {atlanta.ano}')"
      ],
      "metadata": {
        "colab": {
          "base_uri": "https://localhost:8080/"
        },
        "id": "6SNPL9uixUF1",
        "outputId": "859c6a6a-4d93-46d8-c806-c26db298ac40"
      },
      "execution_count": null,
      "outputs": [
        {
          "output_type": "stream",
          "name": "stdout",
          "text": [
            "Vingadores - Guerra Infinita\n",
            "Nome: Atlanta - Ano: 2018\n"
          ]
        }
      ]
    },
    {
      "cell_type": "code",
      "source": [
        "class Programa:\n",
        "   def __init__(self, nome, ano,):\n",
        "        self._nome = nome.title()\n",
        "        self.ano = ano\n",
        "        self._likes = 0\n",
        "\n",
        "   @property\n",
        "   def likes(self):\n",
        "        return self._likes\n",
        "\n",
        "   def dar_likes(self):\n",
        "        self._likes += 1\n",
        "\n",
        "   @property\n",
        "   def nome(self):\n",
        "        return self._nome\n",
        "\n",
        "   @nome.setter\n",
        "   def nome(self, nome):\n",
        "        self._nome = nome\n",
        "\n",
        "\n",
        "\n",
        "\n",
        "\n",
        "\n",
        "class Filme (Programa):\n",
        "    def __init__(self, nome, ano, duracao):\n",
        "        self._nome = nome.title()\n",
        "        self.ano = ano\n",
        "        self.duracao = duracao\n",
        "        self._likes = 0\n",
        "\n",
        "\n",
        "class Serie (Programa):\n",
        "    def __init__(self, nome, ano, temporadas):\n",
        "        self._nome = nome.title()\n",
        "        self.ano = ano\n",
        "        self.temporadas = temporadas\n",
        "        self._likes = 0\n",
        "\n",
        "\n",
        "vingadores = Filme('vingadores - guerra infinita', 2018, 160)\n",
        "print(vingadores.nome)\n",
        "\n",
        "atlanta = Serie('atlanta', 2018, 2)\n",
        "print(f'Nome: {atlanta.nome} - Ano: {atlanta.ano}')"
      ],
      "metadata": {
        "colab": {
          "base_uri": "https://localhost:8080/"
        },
        "outputId": "16f34380-6783-43ee-9e46-749adfc59248",
        "id": "1cYtb-fVR7wU"
      },
      "execution_count": 4,
      "outputs": [
        {
          "output_type": "stream",
          "name": "stdout",
          "text": [
            "Vingadores - Guerra Infinita\n",
            "Nome: Atlanta - Ano: 2018\n"
          ]
        }
      ]
    }
  ]
}