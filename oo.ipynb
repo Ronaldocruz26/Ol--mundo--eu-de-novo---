{
  "nbformat": 4,
  "nbformat_minor": 0,
  "metadata": {
    "colab": {
      "name": "oo.ipynb",
      "provenance": [],
      "authorship_tag": "ABX9TyMK7kh6fiFUmH1iamNrDhOV",
      "include_colab_link": true
    },
    "kernelspec": {
      "name": "python3",
      "display_name": "Python 3"
    },
    "language_info": {
      "name": "python"
    }
  },
  "cells": [
    {
      "cell_type": "markdown",
      "metadata": {
        "id": "view-in-github",
        "colab_type": "text"
      },
      "source": [
        "<a href=\"https://colab.research.google.com/github/Ronaldocruz26/Ol--mundo--eu-de-novo---/blob/master/oo.ipynb\" target=\"_parent\"><img src=\"https://colab.research.google.com/assets/colab-badge.svg\" alt=\"Open In Colab\"/></a>"
      ]
    },
    {
      "cell_type": "markdown",
      "source": [
        "# Classes e objetos\n"
      ],
      "metadata": {
        "id": "H9VXzfuELqfG"
      }
    },
    {
      "cell_type": "code",
      "execution_count": 7,
      "metadata": {
        "colab": {
          "base_uri": "https://localhost:8080/"
        },
        "id": "m8U9PppMFZ3n",
        "outputId": "d5ac4e4e-9914-4aea-c2fa-ac34f6ea5d3d"
      },
      "outputs": [
        {
          "output_type": "stream",
          "name": "stdout",
          "text": [
            "Nome: vingadores - guerra infinita - Ano: 2018 - Duração: 160\n",
            "Nome: Atlanta - Ano: 2018 - Temporadas: 2\n"
          ]
        }
      ],
      "source": [
        "class Filme:\n",
        "  def __init__(self, nome, ano, duracao):\n",
        "      self.nome = nome\n",
        "      self.ano = ano\n",
        "      self.duracao = duracao\n",
        "\n",
        "class Serie:\n",
        "  def __init__(self, nome, ano, temporadas):\n",
        "      self.nome = nome\n",
        "      self.ano = ano\n",
        "      self.temporadas = temporadas  \n",
        "\n",
        "    \n",
        "vingadores = Filme('vingadores - guerra infinita', 2018, 160)\n",
        "print (f'Nome: {vingadores.nome} - Ano: {vingadores.ano}'\n",
        "      f' - Duração: {vingadores.duracao}')\n",
        "\n",
        "atlanta = Serie('Atlanta', 2018, 2)\n",
        "\n",
        "print (f'Nome: {atlanta.nome} - Ano: {atlanta.ano}'\n",
        "      f' - Temporadas: {atlanta.temporadas}')\n"
      ]
    },
    {
      "cell_type": "code",
      "source": [
        "class Filme:\n",
        "  def __init__(self, nome, ano, duracao):\n",
        "      self.nome = nome.title ()\n",
        "      self.ano = ano\n",
        "      self.duracao = duracao\n",
        "      self.likes = 0\n",
        "\n",
        "  def dar_likes(self):\n",
        "      self.likes += 1\n",
        "\n",
        "\n",
        "class Serie:\n",
        "  def __init__(self, nome, ano, temporadas):\n",
        "      self.nome = nome.title ()\n",
        "      self.ano = ano\n",
        "      self.temporadas = temporadas  \n",
        "      self.likes = 0\n",
        "\n",
        "  def dar_likes(self):\n",
        "      self.likes += 1\n",
        "\n",
        "    \n",
        "vingadores = Filme('vingadores - guerra infinita', 2018, 160)\n",
        "vingadores.dar_likes()\n",
        "print (f'Nome: {vingadores.nome} - Ano: {vingadores.ano}'\n",
        "      f' - Duração: {vingadores.duracao} - likes: {vingadores.likes}')\n",
        "\n",
        "atlanta = Serie('Atlanta', 2018, 2)\n",
        "atlanta.dar_likes()\n",
        "atlanta.dar_likes()\n",
        "atlanta.dar_likes()\n",
        "print (f'Nome: {atlanta.nome} - Ano: {atlanta.ano}'\n",
        "      f' - Temporadas: {atlanta.temporadas} - likes: {atlanta.likes}')\n"
      ],
      "metadata": {
        "colab": {
          "base_uri": "https://localhost:8080/"
        },
        "id": "N1v-B3x6M3rg",
        "outputId": "f8992e2c-952c-45e2-c2de-3ced66d769e6"
      },
      "execution_count": 12,
      "outputs": [
        {
          "output_type": "stream",
          "name": "stdout",
          "text": [
            "Nome: Vingadores - Guerra Infinita - Ano: 2018 - Duração: 160 - likes: 1\n",
            "Nome: Atlanta - Ano: 2018 - Temporadas: 2 - likes: 3\n"
          ]
        }
      ]
    }
  ]
}