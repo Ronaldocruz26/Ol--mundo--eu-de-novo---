{
  "nbformat": 4,
  "nbformat_minor": 0,
  "metadata": {
    "colab": {
      "name": "oo.ipynb",
      "provenance": [],
      "collapsed_sections": [],
      "authorship_tag": "ABX9TyP78xt/odB33tFrOHuudi95",
      "include_colab_link": true
    },
    "kernelspec": {
      "name": "python3",
      "display_name": "Python 3"
    },
    "language_info": {
      "name": "python"
    }
  },
  "cells": [
    {
      "cell_type": "markdown",
      "metadata": {
        "id": "view-in-github",
        "colab_type": "text"
      },
      "source": [
        "<a href=\"https://colab.research.google.com/github/Ronaldocruz26/Ol--mundo--eu-de-novo---/blob/master/oo.ipynb\" target=\"_parent\"><img src=\"https://colab.research.google.com/assets/colab-badge.svg\" alt=\"Open In Colab\"/></a>"
      ]
    },
    {
      "cell_type": "markdown",
      "source": [
        "#\n",
        " Classes e objetos\n"
      ],
      "metadata": {
        "id": "H9VXzfuELqfG"
      }
    },
    {
      "cell_type": "code",
      "source": [
        "class Programa:\n",
        "    def __init__(self, nome, ano):\n",
        "        self._nome = nome.title()\n",
        "        self.ano = ano\n",
        "        self._likes = 0\n",
        "\n",
        "    @property\n",
        "    def likes(self):\n",
        "        return self._likes\n",
        "\n",
        "    def dar_likes(self):\n",
        "        self._likes += 1\n",
        "\n",
        "    @property\n",
        "    def nome(self):\n",
        "        return self._nome\n",
        "\n",
        "    @nome.setter\n",
        "    def nome(self, nome):\n",
        "        self._nome = nome\n",
        "\n",
        "    def __str__(self):\n",
        "        return f'Nome: {self.nome} Likes: {self.likes}'\n",
        "\n",
        "class Filme(Programa):\n",
        "    def __init__(self, nome, ano, duracao):\n",
        "        super().__init__(nome, ano)\n",
        "        self.duracao = duracao\n",
        "    \n",
        "    def __str__(self):\n",
        "        return f'Nome: {self.nome} - {self.duracao} min - Likes: {self.likes}'\n",
        "\n",
        "class Serie(Programa):\n",
        "    def __init__(self, nome, ano, temporadas):\n",
        "        super().__init__(nome, ano)\n",
        "        self.temporadas = temporadas\n",
        "\n",
        "    def __str__(self):\n",
        "        return f'Nome: {self.nome} - {self.temporadas} temporadas - Likes: {self.likes}'\n",
        "\n",
        "\n",
        "class Playlist():\n",
        "    def __init__(self, nome, programas):\n",
        "        self.nome = nome\n",
        "        self._programas = programas\n",
        "\n",
        "    @property\n",
        "    def listagem(self):\n",
        "        return self._programas\n",
        "\n",
        "    @property\n",
        "    def tamanho(self):\n",
        "        return len(self._programas)\n",
        "\n",
        "\n",
        "vingadores = Filme('vingadores - guerra infinita', 2018, 160)\n",
        "atlanta = Serie('atlanta', 2018, 2)\n",
        "tmep = Filme('todo mundo em panico', 1999, 100)\n",
        "demolidor = Serie('demolidor', 2016, 2)\n",
        "\n",
        "vingadores.dar_likes()\n",
        "vingadores.dar_likes()\n",
        "vingadores.dar_likes()\n",
        "atlanta.dar_likes()\n",
        "atlanta.dar_likes()\n",
        "tmep.dar_likes()\n",
        "tmep.dar_likes()\n",
        "demolidor.dar_likes()\n",
        "demolidor.dar_likes()\n",
        "\n",
        "listinha = [atlanta, vingadores, demolidor, tmep]\n",
        "minha_playlist = Playlist('fim de semana', listinha)\n",
        "\n",
        "for programa in minha_playlist.listagem:\n",
        "    print(programa)\n",
        "\n",
        "print(f'Tamanho: {len(minha_playlist.listagem)}')\n"
      ],
      "metadata": {
        "colab": {
          "base_uri": "https://localhost:8080/"
        },
        "id": "EgRJpCYcTa1a",
        "outputId": "a40da079-e1cb-4ec3-a093-ce24acf86aad"
      },
      "execution_count": 6,
      "outputs": [
        {
          "output_type": "stream",
          "name": "stdout",
          "text": [
            "Nome: Atlanta - 2 temporadas - Likes: 2\n",
            "Nome: Vingadores - Guerra Infinita - 160 min - Likes: 3\n",
            "Nome: Demolidor - 2 temporadas - Likes: 2\n",
            "Nome: Todo Mundo Em Panico - 100 min - Likes: 2\n",
            "Tamanho: 4\n"
          ]
        }
      ]
    },
    {
      "cell_type": "code",
      "source": [
        "from collections.abc import MutableSequence\n",
        "\n",
        "+\n"
      ],
      "metadata": {
        "id": "2FWmdy8cUplI"
      },
      "execution_count": 5,
      "outputs": []
    },
    {
      "cell_type": "code",
      "source": [
        "class Filme:\n",
        "  def __init__(self, nome, ano, duracao):\n",
        "      self.nome = nome.title ()\n",
        "      self.ano = ano\n",
        "      self.duracao = duracao\n",
        "      self.likes = 0\n",
        "\n",
        "  def dar_likes(self):\n",
        "      self.likes += 1\n",
        "\n",
        "\n",
        "class Serie:\n",
        "  def __init__(self, nome, ano, temporadas):\n",
        "      self.nome = nome.title ()\n",
        "      self.ano = ano\n",
        "      self.temporadas = temporadas  \n",
        "      self.likes = 0\n",
        "\n",
        "  def dar_likes(self):\n",
        "      self.likes += 1\n",
        "\n",
        "    \n",
        "vingadores = Filme('vingadores - guerra infinita', 2018, 160)\n",
        "vingadores.dar_likes()\n",
        "print (f'Nome: {vingadores.nome} - Ano: {vingadores.ano}'\n",
        "      f' - Duração: {vingadores.duracao} - likes: {vingadores.likes}')\n",
        "\n",
        "atlanta = Serie('Atlanta', 2018, 2)\n",
        "atlanta.dar_likes()\n",
        "atlanta.dar_likes()\n",
        "atlanta.dar_likes()\n",
        "print (f'Nome: {atlanta.nome} - Ano: {atlanta.ano}'\n",
        "      f' - Temporadas: {atlanta.temporadas} - likes: {atlanta.likes}')\n"
      ],
      "metadata": {
        "colab": {
          "base_uri": "https://localhost:8080/"
        },
        "id": "N1v-B3x6M3rg",
        "outputId": "ba27badc-95de-4f95-92ca-141930b5edb8"
      },
      "execution_count": null,
      "outputs": [
        {
          "output_type": "stream",
          "name": "stdout",
          "text": [
            "Nome: Vingadores - Guerra Infinita - Ano: 2018 - Duração: 160 - likes: 1\n",
            "Nome: Atlanta - Ano: 2018 - Temporadas: 2 - likes: 3\n"
          ]
        }
      ]
    },
    {
      "cell_type": "code",
      "source": [
        "class Relatorio:\n",
        "    def gera_relatorio(self):\n",
        "        print('Relatório geral')\n",
        "\n",
        "class RelatorioUsuarios(Relatorio):\n",
        "    def gera_relatorio(self):\n",
        "        print('Relatório dos usuários')\n",
        "\n",
        "class RelatorioCustos(Relatorio):\n",
        "    def gera_relatorio(self):\n",
        "        print('Relatório de custos')\n",
        "\n",
        "relatorio1 = RelatorioUsuarios()\n",
        "relatorio2 = RelatorioCustos()\n",
        "relatorio3 = RelatorioUsuarios()\n",
        "relatorio4 = RelatorioUsuarios()\n",
        "\n",
        "relatorios = [relatorio1, relatorio2, relatorio3, relatorio4]\n",
        "for rel in relatorios:\n",
        "    rel.gera_relatorio()\n",
        "    "
      ],
      "metadata": {
        "colab": {
          "base_uri": "https://localhost:8080/"
        },
        "id": "tqQGkC4fgbJl",
        "outputId": "679c4074-a044-4e6c-bd9b-568431c07084"
      },
      "execution_count": null,
      "outputs": [
        {
          "output_type": "stream",
          "name": "stdout",
          "text": [
            "Relatório dos usuários\n",
            "Relatório de custos\n",
            "Relatório dos usuários\n",
            "Relatório dos usuários\n"
          ]
        }
      ]
    },
    {
      "cell_type": "code",
      "source": [
        "class Programa:\n",
        "    def __init__(self, nome, ano):\n",
        "        self._nome = nome.title()\n",
        "        self.ano = ano\n",
        "        self._likes = 0\n",
        "\n",
        "    @property\n",
        "    def likes(self):\n",
        "        return self._likes\n",
        "\n",
        "    def dar_likes(self):\n",
        "        self._likes += 1\n",
        "\n",
        "    @property\n",
        "    def nome(self):\n",
        "        return self._nome\n",
        "\n",
        "    @nome.setter\n",
        "    def nome(self, nome):\n",
        "        self._nome = nome\n",
        "\n",
        "class Filme(Programa):\n",
        "    def __init__(self, nome, ano, duracao):\n",
        "        super().__init__(nome, ano)\n",
        "        self.duracao = duracao\n",
        "\n",
        "class Serie(Programa):\n",
        "    def __init__(self, nome, ano, temporadas):\n",
        "        super().__init__(nome, ano)\n",
        "        self.temporadas = temporadas\n",
        "\n",
        "vingadores = Filme('vingadores - guerra infinita', 2018, 160)\n",
        "atlanta = Serie('atlanta', 2018, 2)\n",
        "vingadores.dar_likes()\n",
        "vingadores.dar_likes()\n",
        "vingadores.dar_likes()\n",
        "\n",
        "atlanta.dar_likes()\n",
        "atlanta.dar_likes()\n",
        "\n",
        "listinha = [atlanta, vingadores]\n",
        "\n",
        "for programa in listinha:\n",
        "    print(f'Nome: {programa.nome} - Likes: {programa.likes}')"
      ],
      "metadata": {
        "id": "l1kSkYZghe3O",
        "outputId": "b250f5aa-93b1-4ac7-d7e9-41d28767fa56",
        "colab": {
          "base_uri": "https://localhost:8080/"
        }
      },
      "execution_count": null,
      "outputs": [
        {
          "output_type": "stream",
          "name": "stdout",
          "text": [
            "Nome: Atlanta - Likes: 2\n",
            "Nome: Vingadores - Guerra Infinita - Likes: 3\n"
          ]
        }
      ]
    }
  ]
}